{
 "cells": [
  {
   "cell_type": "markdown",
   "metadata": {},
   "source": [
    "# Mean, Median, Mode, and introducing NumPy"
   ]
  },
  {
   "cell_type": "markdown",
   "metadata": {},
   "source": [
    "## Mean vs. Median"
   ]
  },
  {
   "cell_type": "code",
   "execution_count": 2,
   "metadata": {},
   "outputs": [
    {
     "data": {
      "text/plain": [
       "27253.30296002811"
      ]
     },
     "execution_count": 2,
     "metadata": {},
     "output_type": "execute_result"
    }
   ],
   "source": [
    "import numpy as np\n",
    "income = np.random.normal(27000, 15800, 20000)\n",
    "np.mean(income)"
   ]
  },
  {
   "cell_type": "code",
   "execution_count": 4,
   "metadata": {},
   "outputs": [
    {
     "data": {
      "image/png": "[encoded data removed]",
      "text/plain": [
       "<Figure size 432x288 with 1 Axes>"
      ]
     },
     "metadata": {
      "needs_background": "light"
     },
     "output_type": "display_data"
    }
   ],
   "source": [
    "import matplotlib.pyplot as plt\n",
    "plt.hist(income, 50)\n",
    "plt.show()"
   ]
  },
  {
   "cell_type": "code",
   "execution_count": 5,
   "metadata": {},
   "outputs": [
    {
     "data": {
      "text/plain": [
       "27115.418244199675"
      ]
     },
     "execution_count": 5,
     "metadata": {},
     "output_type": "execute_result"
    }
   ],
   "source": [
    "np.median(income)"
   ]
  },
  {
   "cell_type": "code",
   "execution_count": 7,
   "metadata": {},
   "outputs": [],
   "source": [
    "incomes = np.append(income, [100000000])"
   ]
  },
  {
   "cell_type": "code",
   "execution_count": 8,
   "metadata": {},
   "outputs": [
    {
     "data": {
      "text/plain": [
       "27115.46726870547"
      ]
     },
     "execution_count": 8,
     "metadata": {},
     "output_type": "execute_result"
    }
   ],
   "source": [
    "np.median(incomes)"
   ]
  },
  {
   "cell_type": "code",
   "execution_count": 9,
   "metadata": {},
   "outputs": [
    {
     "data": {
      "text/plain": [
       "32251.690375509337"
      ]
     },
     "execution_count": 9,
     "metadata": {},
     "output_type": "execute_result"
    }
   ],
   "source": [
    "np.mean(incomes)"
   ]
  },
  {
   "cell_type": "markdown",
   "metadata": {},
   "source": [
    "# MODE"
   ]
  },
  {
   "cell_type": "code",
   "execution_count": 11,
   "metadata": {},
   "outputs": [
    {
     "data": {
      "text/plain": [
       "array([47, 30, 37, 80, 82, 31, 26, 55, 67, 24, 23, 30, 51, 20, 42, 35, 32,\n",
       "       69, 40, 23, 75, 81, 85, 18, 85, 73, 31, 21, 32, 55, 86, 35, 29, 86,\n",
       "       47, 18, 79, 22, 22, 39, 50, 26, 72, 88, 22, 78, 44, 54, 67, 85, 68,\n",
       "       46, 29, 46, 68, 52, 49, 54, 35, 80, 39, 54, 33, 72, 55, 19, 47, 65,\n",
       "       44, 31, 74, 83, 26, 35, 18, 73, 25, 60, 38, 89, 61, 53, 84, 41, 49,\n",
       "       36, 68, 44, 56, 36, 20, 82, 79, 76, 19, 44, 22, 45, 27, 82, 73, 84,\n",
       "       26, 71, 89, 42, 85, 86, 59, 87, 54, 29, 40, 33, 32, 40, 59, 60, 22,\n",
       "       50, 76, 63, 47, 88, 42, 47, 45, 40, 66, 45, 37, 67, 87, 24, 23, 35,\n",
       "       27, 26, 34, 40, 81, 86, 42, 85, 60, 65, 61, 61, 65, 57, 29, 52, 59,\n",
       "       36, 41, 65, 52, 18, 33, 66, 58, 27, 38, 89, 24, 51, 82, 51, 66, 77,\n",
       "       80, 28, 53, 65, 32, 20, 50, 40, 29, 76, 64, 63, 69, 29, 57, 29, 35,\n",
       "       75, 80, 87, 77, 76, 58, 34, 64, 60, 19, 36, 18, 40, 69, 52, 48, 33,\n",
       "       44, 47, 25, 40, 60, 24, 38, 79, 60, 80, 47, 62, 25, 33, 40, 82, 43,\n",
       "       40, 61, 86, 73, 22, 68, 59, 53, 53, 88, 60, 73, 21, 77, 20, 26, 79,\n",
       "       85, 87, 68, 89, 88, 77, 43, 84, 21, 26, 80, 23, 61, 48, 61, 47, 59,\n",
       "       77, 86, 20, 49, 60, 52, 63, 89, 29, 25, 46, 29, 33, 54, 30, 57, 41,\n",
       "       82, 54, 70, 22, 18, 25, 57, 61, 82, 75, 23, 20, 89, 34, 56, 34, 23,\n",
       "       71, 45, 46, 41, 79, 65, 89, 29, 34, 82, 42, 27, 48, 39, 18, 72, 64,\n",
       "       51, 65, 22, 46, 21, 40, 26, 41, 49, 89, 33, 58, 54, 86, 59, 31, 89,\n",
       "       61, 31, 63, 34, 57, 72, 84, 45, 61, 88, 74, 25, 81, 39, 67, 85, 26,\n",
       "       24, 70, 61, 75, 56, 45, 21, 26, 23, 20, 50, 60, 78, 55, 26, 82, 87,\n",
       "       71, 55, 43, 24, 26, 18, 89, 18, 81, 53, 75, 65, 55, 73, 19, 32, 40,\n",
       "       61, 64, 64, 79, 43, 46, 89, 27, 25, 85, 80, 38, 44, 81, 59, 39, 19,\n",
       "       37, 72, 79, 86, 67, 63, 63, 73, 57, 37, 48, 63, 43, 88, 24, 60, 63,\n",
       "       70, 61, 19, 44, 76, 40, 84, 28, 57, 86, 66, 70, 78, 65, 25, 20, 80,\n",
       "       80, 30, 81, 37, 54, 86, 70, 44, 87, 57, 80, 55, 75, 46, 70, 39, 44,\n",
       "       64, 61, 70, 71, 78, 86, 65, 24, 67, 54, 82, 59, 60, 27, 48, 86, 76,\n",
       "       62, 58, 63, 48, 81, 83, 57, 29, 67, 79, 78, 44, 73, 22, 51, 84, 83,\n",
       "       50, 36, 46, 22, 52, 50, 58, 24, 70, 43, 42, 43, 57, 62, 88, 80, 44,\n",
       "       55, 74, 55, 27, 34, 22, 28])"
      ]
     },
     "execution_count": 11,
     "metadata": {},
     "output_type": "execute_result"
    }
   ],
   "source": [
    "ages = np.random.randint(18, high=90, size=500)\n",
    "ages"
   ]
  },
  {
   "cell_type": "code",
   "execution_count": 54,
   "metadata": {},
   "outputs": [
    {
     "data": {
      "text/plain": [
       "ModeResult(mode=array([40]), count=array([13]))"
      ]
     },
     "execution_count": 54,
     "metadata": {},
     "output_type": "execute_result"
    }
   ],
   "source": [
    "from scipy import stats\n",
    "stats.mode(ages)"
   ]
  }
 ],
 "metadata": {
  "kernelspec": {
   "display_name": "Python 3",
   "language": "python",
   "name": "python3"
  },
  "language_info": {
   "codemirror_mode": {
    "name": "ipython",
    "version": 3
   },
   "file_extension": ".py",
   "mimetype": "text/x-python",
   "name": "python",
   "nbconvert_exporter": "python",
   "pygments_lexer": "ipython3",
   "version": "3.7.7"
  }
 },
 "nbformat": 4,
 "nbformat_minor": 4
}
